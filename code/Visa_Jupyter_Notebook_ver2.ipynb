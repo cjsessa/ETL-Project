{
 "cells": [
  {
   "cell_type": "code",
   "execution_count": 1,
   "metadata": {},
   "outputs": [],
   "source": [
    "import pandas as pd\n",
    "from sqlalchemy import create_engine\n",
    "import numpy as np\n",
    "import datetime as dt\n",
    "from config import postgres_password\n",
    "from config import postgres_port"
   ]
  },
  {
   "cell_type": "code",
   "execution_count": 2,
   "metadata": {},
   "outputs": [],
   "source": [
    "# file paths\n",
    "in_file_path = \"../Resources/Visas/\"\n",
    "out_file_path = \"../output/\""
   ]
  },
  {
   "cell_type": "code",
   "execution_count": 3,
   "metadata": {},
   "outputs": [
    {
     "name": "stdout",
     "output_type": "stream",
     "text": [
      "Input file name: ../Resources/Visas/us_perm_visas.csv\n"
     ]
    },
    {
     "data": {
      "text/html": [
       "<div>\n",
       "<style scoped>\n",
       "    .dataframe tbody tr th:only-of-type {\n",
       "        vertical-align: middle;\n",
       "    }\n",
       "\n",
       "    .dataframe tbody tr th {\n",
       "        vertical-align: top;\n",
       "    }\n",
       "\n",
       "    .dataframe thead th {\n",
       "        text-align: right;\n",
       "    }\n",
       "</style>\n",
       "<table border=\"1\" class=\"dataframe\">\n",
       "  <thead>\n",
       "    <tr style=\"text-align: right;\">\n",
       "      <th></th>\n",
       "      <th>add_these_pw_job_title_9089</th>\n",
       "      <th>agent_city</th>\n",
       "      <th>agent_firm_name</th>\n",
       "      <th>agent_state</th>\n",
       "      <th>application_type</th>\n",
       "      <th>case_no</th>\n",
       "      <th>case_number</th>\n",
       "      <th>case_received_date</th>\n",
       "      <th>case_status</th>\n",
       "      <th>class_of_admission</th>\n",
       "      <th>...</th>\n",
       "      <th>ri_pvt_employment_firm_to</th>\n",
       "      <th>ri_us_workers_considered</th>\n",
       "      <th>schd_a_sheepherder</th>\n",
       "      <th>us_economic_sector</th>\n",
       "      <th>wage_offer_from_9089</th>\n",
       "      <th>wage_offer_to_9089</th>\n",
       "      <th>wage_offer_unit_of_pay_9089</th>\n",
       "      <th>wage_offered_from_9089</th>\n",
       "      <th>wage_offered_to_9089</th>\n",
       "      <th>wage_offered_unit_of_pay_9089</th>\n",
       "    </tr>\n",
       "  </thead>\n",
       "  <tbody>\n",
       "    <tr>\n",
       "      <td>0</td>\n",
       "      <td>NaN</td>\n",
       "      <td>NaN</td>\n",
       "      <td>NaN</td>\n",
       "      <td>NaN</td>\n",
       "      <td>PERM</td>\n",
       "      <td>A-07323-97014</td>\n",
       "      <td>NaN</td>\n",
       "      <td>NaN</td>\n",
       "      <td>Certified</td>\n",
       "      <td>J-1</td>\n",
       "      <td>...</td>\n",
       "      <td>NaN</td>\n",
       "      <td>NaN</td>\n",
       "      <td>NaN</td>\n",
       "      <td>IT</td>\n",
       "      <td>75629.0</td>\n",
       "      <td>NaN</td>\n",
       "      <td>yr</td>\n",
       "      <td>NaN</td>\n",
       "      <td>NaN</td>\n",
       "      <td>NaN</td>\n",
       "    </tr>\n",
       "    <tr>\n",
       "      <td>1</td>\n",
       "      <td>NaN</td>\n",
       "      <td>NaN</td>\n",
       "      <td>NaN</td>\n",
       "      <td>NaN</td>\n",
       "      <td>PERM</td>\n",
       "      <td>A-07332-99439</td>\n",
       "      <td>NaN</td>\n",
       "      <td>NaN</td>\n",
       "      <td>Denied</td>\n",
       "      <td>B-2</td>\n",
       "      <td>...</td>\n",
       "      <td>NaN</td>\n",
       "      <td>NaN</td>\n",
       "      <td>NaN</td>\n",
       "      <td>Other Economic Sector</td>\n",
       "      <td>37024.0</td>\n",
       "      <td>NaN</td>\n",
       "      <td>yr</td>\n",
       "      <td>NaN</td>\n",
       "      <td>NaN</td>\n",
       "      <td>NaN</td>\n",
       "    </tr>\n",
       "    <tr>\n",
       "      <td>2</td>\n",
       "      <td>NaN</td>\n",
       "      <td>NaN</td>\n",
       "      <td>NaN</td>\n",
       "      <td>NaN</td>\n",
       "      <td>PERM</td>\n",
       "      <td>A-07333-99643</td>\n",
       "      <td>NaN</td>\n",
       "      <td>NaN</td>\n",
       "      <td>Certified</td>\n",
       "      <td>H-1B</td>\n",
       "      <td>...</td>\n",
       "      <td>NaN</td>\n",
       "      <td>NaN</td>\n",
       "      <td>NaN</td>\n",
       "      <td>Aerospace</td>\n",
       "      <td>47923.0</td>\n",
       "      <td>NaN</td>\n",
       "      <td>yr</td>\n",
       "      <td>NaN</td>\n",
       "      <td>NaN</td>\n",
       "      <td>NaN</td>\n",
       "    </tr>\n",
       "    <tr>\n",
       "      <td>3</td>\n",
       "      <td>NaN</td>\n",
       "      <td>NaN</td>\n",
       "      <td>NaN</td>\n",
       "      <td>NaN</td>\n",
       "      <td>PERM</td>\n",
       "      <td>A-07339-01930</td>\n",
       "      <td>NaN</td>\n",
       "      <td>NaN</td>\n",
       "      <td>Certified</td>\n",
       "      <td>B-2</td>\n",
       "      <td>...</td>\n",
       "      <td>NaN</td>\n",
       "      <td>NaN</td>\n",
       "      <td>NaN</td>\n",
       "      <td>Other Economic Sector</td>\n",
       "      <td>10.97</td>\n",
       "      <td>NaN</td>\n",
       "      <td>hr</td>\n",
       "      <td>NaN</td>\n",
       "      <td>NaN</td>\n",
       "      <td>NaN</td>\n",
       "    </tr>\n",
       "    <tr>\n",
       "      <td>4</td>\n",
       "      <td>NaN</td>\n",
       "      <td>NaN</td>\n",
       "      <td>NaN</td>\n",
       "      <td>NaN</td>\n",
       "      <td>PERM</td>\n",
       "      <td>A-07345-03565</td>\n",
       "      <td>NaN</td>\n",
       "      <td>NaN</td>\n",
       "      <td>Certified</td>\n",
       "      <td>L-1</td>\n",
       "      <td>...</td>\n",
       "      <td>NaN</td>\n",
       "      <td>NaN</td>\n",
       "      <td>NaN</td>\n",
       "      <td>Advanced Mfg</td>\n",
       "      <td>100000.0</td>\n",
       "      <td>NaN</td>\n",
       "      <td>yr</td>\n",
       "      <td>NaN</td>\n",
       "      <td>NaN</td>\n",
       "      <td>NaN</td>\n",
       "    </tr>\n",
       "  </tbody>\n",
       "</table>\n",
       "<p>5 rows × 154 columns</p>\n",
       "</div>"
      ],
      "text/plain": [
       "  add_these_pw_job_title_9089 agent_city agent_firm_name agent_state  \\\n",
       "0                         NaN        NaN             NaN         NaN   \n",
       "1                         NaN        NaN             NaN         NaN   \n",
       "2                         NaN        NaN             NaN         NaN   \n",
       "3                         NaN        NaN             NaN         NaN   \n",
       "4                         NaN        NaN             NaN         NaN   \n",
       "\n",
       "  application_type        case_no case_number case_received_date case_status  \\\n",
       "0             PERM  A-07323-97014         NaN                NaN   Certified   \n",
       "1             PERM  A-07332-99439         NaN                NaN      Denied   \n",
       "2             PERM  A-07333-99643         NaN                NaN   Certified   \n",
       "3             PERM  A-07339-01930         NaN                NaN   Certified   \n",
       "4             PERM  A-07345-03565         NaN                NaN   Certified   \n",
       "\n",
       "  class_of_admission  ... ri_pvt_employment_firm_to ri_us_workers_considered  \\\n",
       "0                J-1  ...                       NaN                      NaN   \n",
       "1                B-2  ...                       NaN                      NaN   \n",
       "2               H-1B  ...                       NaN                      NaN   \n",
       "3                B-2  ...                       NaN                      NaN   \n",
       "4                L-1  ...                       NaN                      NaN   \n",
       "\n",
       "  schd_a_sheepherder     us_economic_sector wage_offer_from_9089  \\\n",
       "0                NaN                     IT              75629.0   \n",
       "1                NaN  Other Economic Sector              37024.0   \n",
       "2                NaN              Aerospace              47923.0   \n",
       "3                NaN  Other Economic Sector                10.97   \n",
       "4                NaN           Advanced Mfg             100000.0   \n",
       "\n",
       "  wage_offer_to_9089 wage_offer_unit_of_pay_9089 wage_offered_from_9089  \\\n",
       "0                NaN                          yr                    NaN   \n",
       "1                NaN                          yr                    NaN   \n",
       "2                NaN                          yr                    NaN   \n",
       "3                NaN                          hr                    NaN   \n",
       "4                NaN                          yr                    NaN   \n",
       "\n",
       "  wage_offered_to_9089  wage_offered_unit_of_pay_9089  \n",
       "0                  NaN                            NaN  \n",
       "1                  NaN                            NaN  \n",
       "2                  NaN                            NaN  \n",
       "3                  NaN                            NaN  \n",
       "4                  NaN                            NaN  \n",
       "\n",
       "[5 rows x 154 columns]"
      ]
     },
     "execution_count": 3,
     "metadata": {},
     "output_type": "execute_result"
    }
   ],
   "source": [
    "# read the inout file\n",
    "csv_file = f\"{in_file_path}us_perm_visas.csv\"\n",
    "print(f\"Input file name: {csv_file}\")\n",
    "visa_data_df = pd.read_csv(filepath_or_buffer=csv_file, low_memory=False)\n",
    "visa_data_df.head(5)"
   ]
  },
  {
   "cell_type": "code",
   "execution_count": 4,
   "metadata": {},
   "outputs": [
    {
     "data": {
      "text/html": [
       "<div>\n",
       "<style scoped>\n",
       "    .dataframe tbody tr th:only-of-type {\n",
       "        vertical-align: middle;\n",
       "    }\n",
       "\n",
       "    .dataframe tbody tr th {\n",
       "        vertical-align: top;\n",
       "    }\n",
       "\n",
       "    .dataframe thead th {\n",
       "        text-align: right;\n",
       "    }\n",
       "</style>\n",
       "<table border=\"1\" class=\"dataframe\">\n",
       "  <thead>\n",
       "    <tr style=\"text-align: right;\">\n",
       "      <th></th>\n",
       "      <th>case_no</th>\n",
       "      <th>case_number</th>\n",
       "      <th>case_status</th>\n",
       "      <th>class_of_admission</th>\n",
       "      <th>country_of_citizenship</th>\n",
       "      <th>country_of_citzenship</th>\n",
       "      <th>decision_date</th>\n",
       "      <th>employer_country</th>\n",
       "      <th>employer_num_employees</th>\n",
       "      <th>employer_postal_code</th>\n",
       "      <th>...</th>\n",
       "      <th>job_info_education</th>\n",
       "      <th>job_info_work_postal_code</th>\n",
       "      <th>job_info_work_state</th>\n",
       "      <th>orig_file_date</th>\n",
       "      <th>pw_amount_9089</th>\n",
       "      <th>pw_unit_of_pay_9089</th>\n",
       "      <th>wage_offer_from_9089</th>\n",
       "      <th>wage_offer_unit_of_pay_9089</th>\n",
       "      <th>wage_offered_from_9089</th>\n",
       "      <th>wage_offered_unit_of_pay_9089</th>\n",
       "    </tr>\n",
       "  </thead>\n",
       "  <tbody>\n",
       "    <tr>\n",
       "      <td>0</td>\n",
       "      <td>A-07323-97014</td>\n",
       "      <td>NaN</td>\n",
       "      <td>Certified</td>\n",
       "      <td>J-1</td>\n",
       "      <td>NaN</td>\n",
       "      <td>ARMENIA</td>\n",
       "      <td>2012-02-01</td>\n",
       "      <td>NaN</td>\n",
       "      <td>NaN</td>\n",
       "      <td>10010.0</td>\n",
       "      <td>...</td>\n",
       "      <td>NaN</td>\n",
       "      <td>NaN</td>\n",
       "      <td>NY</td>\n",
       "      <td>NaN</td>\n",
       "      <td>75629.0</td>\n",
       "      <td>yr</td>\n",
       "      <td>75629.0</td>\n",
       "      <td>yr</td>\n",
       "      <td>NaN</td>\n",
       "      <td>NaN</td>\n",
       "    </tr>\n",
       "    <tr>\n",
       "      <td>1</td>\n",
       "      <td>A-07332-99439</td>\n",
       "      <td>NaN</td>\n",
       "      <td>Denied</td>\n",
       "      <td>B-2</td>\n",
       "      <td>NaN</td>\n",
       "      <td>POLAND</td>\n",
       "      <td>2011-12-21</td>\n",
       "      <td>NaN</td>\n",
       "      <td>NaN</td>\n",
       "      <td>7072.0</td>\n",
       "      <td>...</td>\n",
       "      <td>NaN</td>\n",
       "      <td>NaN</td>\n",
       "      <td>NY</td>\n",
       "      <td>NaN</td>\n",
       "      <td>37024.0</td>\n",
       "      <td>yr</td>\n",
       "      <td>37024.0</td>\n",
       "      <td>yr</td>\n",
       "      <td>NaN</td>\n",
       "      <td>NaN</td>\n",
       "    </tr>\n",
       "    <tr>\n",
       "      <td>2</td>\n",
       "      <td>A-07333-99643</td>\n",
       "      <td>NaN</td>\n",
       "      <td>Certified</td>\n",
       "      <td>H-1B</td>\n",
       "      <td>NaN</td>\n",
       "      <td>INDIA</td>\n",
       "      <td>2011-12-01</td>\n",
       "      <td>NaN</td>\n",
       "      <td>NaN</td>\n",
       "      <td>23059.0</td>\n",
       "      <td>...</td>\n",
       "      <td>NaN</td>\n",
       "      <td>NaN</td>\n",
       "      <td>MD</td>\n",
       "      <td>NaN</td>\n",
       "      <td>47923.0</td>\n",
       "      <td>yr</td>\n",
       "      <td>47923.0</td>\n",
       "      <td>yr</td>\n",
       "      <td>NaN</td>\n",
       "      <td>NaN</td>\n",
       "    </tr>\n",
       "    <tr>\n",
       "      <td>3</td>\n",
       "      <td>A-07339-01930</td>\n",
       "      <td>NaN</td>\n",
       "      <td>Certified</td>\n",
       "      <td>B-2</td>\n",
       "      <td>NaN</td>\n",
       "      <td>SOUTH KOREA</td>\n",
       "      <td>2011-12-01</td>\n",
       "      <td>NaN</td>\n",
       "      <td>NaN</td>\n",
       "      <td>11354.0</td>\n",
       "      <td>...</td>\n",
       "      <td>NaN</td>\n",
       "      <td>NaN</td>\n",
       "      <td>NY</td>\n",
       "      <td>NaN</td>\n",
       "      <td>10.97</td>\n",
       "      <td>hr</td>\n",
       "      <td>10.97</td>\n",
       "      <td>hr</td>\n",
       "      <td>NaN</td>\n",
       "      <td>NaN</td>\n",
       "    </tr>\n",
       "    <tr>\n",
       "      <td>4</td>\n",
       "      <td>A-07345-03565</td>\n",
       "      <td>NaN</td>\n",
       "      <td>Certified</td>\n",
       "      <td>L-1</td>\n",
       "      <td>NaN</td>\n",
       "      <td>CANADA</td>\n",
       "      <td>2012-01-26</td>\n",
       "      <td>NaN</td>\n",
       "      <td>NaN</td>\n",
       "      <td>12204.0</td>\n",
       "      <td>...</td>\n",
       "      <td>NaN</td>\n",
       "      <td>NaN</td>\n",
       "      <td>NY</td>\n",
       "      <td>NaN</td>\n",
       "      <td>94890.0</td>\n",
       "      <td>yr</td>\n",
       "      <td>100000.0</td>\n",
       "      <td>yr</td>\n",
       "      <td>NaN</td>\n",
       "      <td>NaN</td>\n",
       "    </tr>\n",
       "  </tbody>\n",
       "</table>\n",
       "<p>5 rows × 39 columns</p>\n",
       "</div>"
      ],
      "text/plain": [
       "         case_no case_number case_status class_of_admission  \\\n",
       "0  A-07323-97014         NaN   Certified                J-1   \n",
       "1  A-07332-99439         NaN      Denied                B-2   \n",
       "2  A-07333-99643         NaN   Certified               H-1B   \n",
       "3  A-07339-01930         NaN   Certified                B-2   \n",
       "4  A-07345-03565         NaN   Certified                L-1   \n",
       "\n",
       "  country_of_citizenship country_of_citzenship decision_date employer_country  \\\n",
       "0                    NaN               ARMENIA    2012-02-01              NaN   \n",
       "1                    NaN                POLAND    2011-12-21              NaN   \n",
       "2                    NaN                 INDIA    2011-12-01              NaN   \n",
       "3                    NaN           SOUTH KOREA    2011-12-01              NaN   \n",
       "4                    NaN                CANADA    2012-01-26              NaN   \n",
       "\n",
       "   employer_num_employees employer_postal_code  ... job_info_education  \\\n",
       "0                     NaN              10010.0  ...                NaN   \n",
       "1                     NaN               7072.0  ...                NaN   \n",
       "2                     NaN              23059.0  ...                NaN   \n",
       "3                     NaN              11354.0  ...                NaN   \n",
       "4                     NaN              12204.0  ...                NaN   \n",
       "\n",
       "   job_info_work_postal_code job_info_work_state orig_file_date  \\\n",
       "0                        NaN                  NY            NaN   \n",
       "1                        NaN                  NY            NaN   \n",
       "2                        NaN                  MD            NaN   \n",
       "3                        NaN                  NY            NaN   \n",
       "4                        NaN                  NY            NaN   \n",
       "\n",
       "  pw_amount_9089 pw_unit_of_pay_9089 wage_offer_from_9089  \\\n",
       "0        75629.0                  yr              75629.0   \n",
       "1        37024.0                  yr              37024.0   \n",
       "2        47923.0                  yr              47923.0   \n",
       "3          10.97                  hr                10.97   \n",
       "4        94890.0                  yr             100000.0   \n",
       "\n",
       "  wage_offer_unit_of_pay_9089 wage_offered_from_9089  \\\n",
       "0                          yr                    NaN   \n",
       "1                          yr                    NaN   \n",
       "2                          yr                    NaN   \n",
       "3                          hr                    NaN   \n",
       "4                          yr                    NaN   \n",
       "\n",
       "  wage_offered_unit_of_pay_9089  \n",
       "0                           NaN  \n",
       "1                           NaN  \n",
       "2                           NaN  \n",
       "3                           NaN  \n",
       "4                           NaN  \n",
       "\n",
       "[5 rows x 39 columns]"
      ]
     },
     "execution_count": 4,
     "metadata": {},
     "output_type": "execute_result"
    }
   ],
   "source": [
    "# Keep Important Columns\n",
    "small_col_visa_df = visa_data_df[[\"case_no\",\n",
    "                                  \"case_number\",\n",
    "                                  \"case_status\",\n",
    "                                  \"class_of_admission\",\n",
    "                                  \"country_of_citizenship\",\n",
    "                                  \"country_of_citzenship\",\n",
    "                                  \"decision_date\",\n",
    "                                  \"employer_country\",\n",
    "                                  \"employer_num_employees\",\n",
    "                                  \"employer_postal_code\",\n",
    "                                  \"employer_state\",\n",
    "                                  \"employer_yr_estab\",\n",
    "                                  \"foreign_worker_info_birth_country\",\n",
    "                                  \"fw_info_birth_country\",\n",
    "                                  \"foreign_worker_info_education\",\n",
    "                                  \"foreign_worker_info_major\",\n",
    "                                  \"foreign_worker_info_postal_code\",\n",
    "                                  \"fw_info_postal_code\",\n",
    "                                  \"foreign_worker_info_rel_occup_exp\",\n",
    "                                  \"fw_info_rel_occup_exp\",\n",
    "                                  \"foreign_worker_info_state\",\n",
    "                                  \"foreign_worker_info_training_comp\",\n",
    "                                  \"fw_info_training_comp\",\n",
    "                                  \"foreign_worker_ownership_interest\",\n",
    "                                  \"fw_ownership_interest\",\n",
    "                                  \"foreign_worker_yr_rel_edu_completed\",\n",
    "                                  \"fw_info_yr_rel_edu_completed\",\n",
    "                                  \"ji_offered_to_sec_j_foreign_worker\",\n",
    "                                  \"ji_offered_to_sec_j_fw\",\n",
    "                                  \"job_info_education\",\n",
    "                                  \"job_info_work_postal_code\",\n",
    "                                  \"job_info_work_state\",\n",
    "                                  \"orig_file_date\",\n",
    "                                  \"pw_amount_9089\",\n",
    "                                  \"pw_unit_of_pay_9089\",\n",
    "                                  \"wage_offer_from_9089\",\n",
    "                                  \"wage_offer_unit_of_pay_9089\",\n",
    "                                  \"wage_offered_from_9089\",\n",
    "                                  \"wage_offered_unit_of_pay_9089\"]]\n",
    "small_col_visa_df.head(5)"
   ]
  },
  {
   "cell_type": "code",
   "execution_count": 5,
   "metadata": {},
   "outputs": [
    {
     "name": "stdout",
     "output_type": "stream",
     "text": [
      "Ouput file name: ../output/visa_small0.csv\n"
     ]
    }
   ],
   "source": [
    "csv_file = f\"{out_file_path}visa_small0.csv\"\n",
    "print(f\"Ouput file name: {csv_file}\")\n",
    "small_col_visa_df.to_csv(csv_file, index=False, header=True)"
   ]
  },
  {
   "cell_type": "markdown",
   "metadata": {},
   "source": [
    "# Combine Similar Columns"
   ]
  },
  {
   "cell_type": "code",
   "execution_count": 6,
   "metadata": {},
   "outputs": [
    {
     "name": "stderr",
     "output_type": "stream",
     "text": [
      "C:\\Users\\Kannappan\\Anaconda3\\lib\\site-packages\\pandas\\core\\generic.py:6287: SettingWithCopyWarning: \n",
      "A value is trying to be set on a copy of a slice from a DataFrame\n",
      "\n",
      "See the caveats in the documentation: http://pandas.pydata.org/pandas-docs/stable/user_guide/indexing.html#returning-a-view-versus-a-copy\n",
      "  self._update_inplace(new_data)\n"
     ]
    },
    {
     "data": {
      "text/plain": [
       "0    A-07323-97014\n",
       "1    A-07332-99439\n",
       "2    A-07333-99643\n",
       "3    A-07339-01930\n",
       "4    A-07345-03565\n",
       "Name: case_number, dtype: object"
      ]
     },
     "execution_count": 6,
     "metadata": {},
     "output_type": "execute_result"
    }
   ],
   "source": [
    "#Case Number\n",
    "small_col_visa_df['case_number'].fillna(small_col_visa_df['case_no'], inplace = True)\n",
    "small_col_visa_df['case_number'].head()\n"
   ]
  },
  {
   "cell_type": "code",
   "execution_count": 7,
   "metadata": {},
   "outputs": [
    {
     "name": "stdout",
     "output_type": "stream",
     "text": [
      "Ouput file name: ../output/visa_small1.csv\n"
     ]
    }
   ],
   "source": [
    "csv_file = f\"{out_file_path}visa_small1.csv\"\n",
    "print(f\"Ouput file name: {csv_file}\")\n",
    "small_col_visa_df.to_csv(csv_file, index=False, header=True)"
   ]
  },
  {
   "cell_type": "code",
   "execution_count": 8,
   "metadata": {},
   "outputs": [],
   "source": [
    "#Country of Citizenship\n",
    "small_col_visa_df['country_of_citizenship'].fillna(small_col_visa_df['country_of_citzenship'], inplace = True)\n"
   ]
  },
  {
   "cell_type": "code",
   "execution_count": 9,
   "metadata": {},
   "outputs": [],
   "source": [
    "#FW Birth Country\n",
    "small_col_visa_df['foreign_worker_info_birth_country'].fillna(small_col_visa_df['fw_info_birth_country'], inplace = True)\n"
   ]
  },
  {
   "cell_type": "code",
   "execution_count": 10,
   "metadata": {},
   "outputs": [],
   "source": [
    "#FW Postal Code\n",
    "small_col_visa_df['foreign_worker_info_postal_code'].fillna(small_col_visa_df['fw_info_postal_code'], inplace = True)\n"
   ]
  },
  {
   "cell_type": "code",
   "execution_count": 11,
   "metadata": {},
   "outputs": [],
   "source": [
    "#FW Has Required Experience?\n",
    "small_col_visa_df['foreign_worker_info_rel_occup_exp'].fillna(small_col_visa_df['fw_info_rel_occup_exp'], inplace = True)\n"
   ]
  },
  {
   "cell_type": "code",
   "execution_count": 12,
   "metadata": {},
   "outputs": [],
   "source": [
    "#FW completed Required Training?\n",
    "small_col_visa_df['foreign_worker_info_training_comp'].fillna(small_col_visa_df['fw_info_training_comp'], inplace = True)\n"
   ]
  },
  {
   "cell_type": "code",
   "execution_count": 13,
   "metadata": {},
   "outputs": [],
   "source": [
    "#FW has ownership interest?\n",
    "small_col_visa_df['foreign_worker_ownership_interest'].fillna(small_col_visa_df['fw_ownership_interest'], inplace = True)\n"
   ]
  },
  {
   "cell_type": "code",
   "execution_count": 14,
   "metadata": {},
   "outputs": [],
   "source": [
    "#FW has required Education?\n",
    "small_col_visa_df['foreign_worker_yr_rel_edu_completed'].fillna(small_col_visa_df['fw_info_yr_rel_edu_completed'], inplace = True)\n"
   ]
  },
  {
   "cell_type": "code",
   "execution_count": 15,
   "metadata": {},
   "outputs": [],
   "source": [
    "#FW is position being sponsored?\n",
    "small_col_visa_df['ji_offered_to_sec_j_foreign_worker'].fillna(small_col_visa_df['ji_offered_to_sec_j_fw'], inplace = True)\n"
   ]
  },
  {
   "cell_type": "code",
   "execution_count": 16,
   "metadata": {},
   "outputs": [],
   "source": [
    "# Wage offered\n",
    "small_col_visa_df['wage_offer_from_9089'].fillna(small_col_visa_df['wage_offered_from_9089'], inplace = True)\n"
   ]
  },
  {
   "cell_type": "code",
   "execution_count": 17,
   "metadata": {},
   "outputs": [],
   "source": [
    "# Unit of Pay for wage offered\n",
    "small_col_visa_df['wage_offer_unit_of_pay_9089'].fillna(small_col_visa_df['wage_offered_unit_of_pay_9089'], inplace = True)\n"
   ]
  },
  {
   "cell_type": "code",
   "execution_count": 18,
   "metadata": {},
   "outputs": [
    {
     "name": "stdout",
     "output_type": "stream",
     "text": [
      "Ouput file name: ../output/visa_small2.csv\n"
     ]
    }
   ],
   "source": [
    "csv_file = f\"{out_file_path}visa_small2.csv\"\n",
    "print(f\"Ouput file name: {csv_file}\")\n",
    "small_col_visa_df.to_csv(csv_file, index=False, header=True)"
   ]
  },
  {
   "cell_type": "markdown",
   "metadata": {},
   "source": [
    "# Attempting to calculate an adjusted Yearly wage"
   ]
  },
  {
   "cell_type": "code",
   "execution_count": 19,
   "metadata": {},
   "outputs": [
    {
     "name": "stdout",
     "output_type": "stream",
     "text": [
      "Input file name: ../output/visa_small2.csv\n"
     ]
    }
   ],
   "source": [
    "csv_file = f\"{out_file_path}visa_small2.csv\"\n",
    "print(f\"Input file name: {csv_file}\")\n",
    "small_col_visa_df = pd.read_csv(filepath_or_buffer=csv_file, low_memory=False)\n"
   ]
  },
  {
   "cell_type": "code",
   "execution_count": 20,
   "metadata": {},
   "outputs": [
    {
     "data": {
      "text/plain": [
       "array(['yr', 'hr', 'mth', 'wk', 'bi', nan, 'Year', 'Hour', 'Week',\n",
       "       'Month', 'Bi-Weekly'], dtype=object)"
      ]
     },
     "execution_count": 20,
     "metadata": {},
     "output_type": "execute_result"
    }
   ],
   "source": [
    "#How are they paid?\n",
    "small_col_visa_df.wage_offer_unit_of_pay_9089.unique()"
   ]
  },
  {
   "cell_type": "code",
   "execution_count": null,
   "metadata": {},
   "outputs": [],
   "source": [
    "# for index, row in small_col_visa_df.iterrows():\n",
    "#     if row[\"wage_offer_unit_of_pay_9089\"] == \"hr\":\n",
    "#         row[\"Adj_annual_wage\"] = row[\"wage_offer_from_9089\"] * 40 * 50\n",
    "        \n",
    "# add the column (Kannan)\n",
    "small_col_visa_df['Adj_annual_wage'] = [small_col_visa_df['wage_offer_from_9089'] if x =='hr'else 0 for x in small_col_visa_df['wage_offer_unit_of_pay_9089']]\n",
    "\n"
   ]
  },
  {
   "cell_type": "code",
   "execution_count": null,
   "metadata": {},
   "outputs": [],
   "source": [
    "csv_file = f\"{out_file_path}visa_small3.csv\"\n",
    "print(f\"Ouput file name: {csv_file}\")\n",
    "small_col_visa_df.to_csv(csv_file, index=False, header=True)"
   ]
  },
  {
   "cell_type": "code",
   "execution_count": null,
   "metadata": {},
   "outputs": [],
   "source": [
    "small_col_visa_df.loc[(small_col_visa_df[\"wage_offer_unit_of_pay_9089\"] == \"hr\")]"
   ]
  },
  {
   "cell_type": "code",
   "execution_count": null,
   "metadata": {},
   "outputs": [],
   "source": [
    "for index, row in small_col_visa_df.iterrows():\n",
    "    if row[\"wage_offer_unit_of_pay_9089\"] == \"hr\":\n",
    "        row[\"Adj_annual_wage\"] = row[\"wage_offer_from_9089\"] * 40 * 50\n",
    "        \n",
    "        # 40 hrs/ week , 50weeks/year\n",
    "        \n",
    "        # Goal would be to contiue this for the other wages\n",
    "        "
   ]
  },
  {
   "cell_type": "code",
   "execution_count": null,
   "metadata": {},
   "outputs": [],
   "source": [
    "small_col_visa_df.head(5)"
   ]
  },
  {
   "cell_type": "code",
   "execution_count": null,
   "metadata": {},
   "outputs": [],
   "source": [
    "small_col_visa_df.loc[(small_col_visa_df[\"wage_offer_unit_of_pay_9089\"] == \"hr\")]\n"
   ]
  },
  {
   "cell_type": "code",
   "execution_count": null,
   "metadata": {},
   "outputs": [],
   "source": [
    "small_col_visa_df[[\"Adj_annual_wage\"]].head(5)"
   ]
  },
  {
   "cell_type": "code",
   "execution_count": null,
   "metadata": {},
   "outputs": [],
   "source": [
    "# Keep Columns -> We can remove the other related columns because they are now duplicates\n",
    "# case_number\n",
    "# country_of_citizenship\n",
    "# foreign_worker_info_birth_country\n",
    "# foreign_worker_info_postal_code\n",
    "# foreign_worker_info_rel_occup_exp\n",
    "# foreign_worker_info_training_comp\n",
    "# foreign_worker_ownership_interest\n",
    "# foreign_worker_yr_rel_edu_completed\n",
    "# ji_offered_to_sec_j_foreign_worker\n",
    "# wage_offer_from_9089\n",
    "# wage_offer_unit_of_pay_9089\n",
    "\n",
    "\n"
   ]
  },
  {
   "cell_type": "code",
   "execution_count": null,
   "metadata": {},
   "outputs": [],
   "source": [
    "slim_visa_db =  small_col_visa_df[[\"case_number\",\n",
    "                                  \"case_status\",\n",
    "                                  \"class_of_admission\",\n",
    "                                  \"country_of_citizenship\",\n",
    "                                  \n",
    "                                  \"decision_date\",\n",
    "                                  \"employer_country\",\n",
    "                                  \"employer_num_employees\",\n",
    "                                  \"employer_postal_code\",\n",
    "                                  \"employer_state\",\n",
    "                                  \"employer_yr_estab\",\n",
    "                                  \"foreign_worker_info_birth_country\",\n",
    "                                  \n",
    "                                  \"foreign_worker_info_education\",\n",
    "                                  \"foreign_worker_info_major\",\n",
    "                                  \"foreign_worker_info_postal_code\",\n",
    "                                  \n",
    "                                  \"foreign_worker_info_rel_occup_exp\",\n",
    "                                  \n",
    "                                  \"foreign_worker_info_state\",\n",
    "                                  \"foreign_worker_info_training_comp\",\n",
    "                                  \n",
    "                                  \"foreign_worker_ownership_interest\",\n",
    "                                  \n",
    "                                  \"foreign_worker_yr_rel_edu_completed\",\n",
    "                                  \n",
    "                                  \"ji_offered_to_sec_j_foreign_worker\",\n",
    "                                  \n",
    "                                  \"job_info_education\",\n",
    "                                  \"job_info_work_postal_code\",\n",
    "                                  \"job_info_work_state\",\n",
    "                                  \"orig_file_date\",\n",
    "                                  \"pw_amount_9089\",\n",
    "                                  \"pw_unit_of_pay_9089\",\n",
    "                                  \"wage_offer_from_9089\",\n",
    "                                  \"wage_offer_unit_of_pay_9089\"]]\n",
    "slim_visa_db.head()"
   ]
  },
  {
   "cell_type": "code",
   "execution_count": null,
   "metadata": {},
   "outputs": [],
   "source": [
    "slim_visa_db.set_index('case_number')"
   ]
  },
  {
   "cell_type": "code",
   "execution_count": null,
   "metadata": {},
   "outputs": [],
   "source": [
    "csv_file = f\"{out_file_path}slim_visa_db.csv\"\n",
    "print(f\"Ouput file name: {csv_file}\")\n",
    "slim_visa_db.to_csv(csv_file, index=False, header=True)"
   ]
  },
  {
   "cell_type": "code",
   "execution_count": null,
   "metadata": {},
   "outputs": [],
   "source": []
  },
  {
   "cell_type": "code",
   "execution_count": null,
   "metadata": {},
   "outputs": [],
   "source": [
    "# Kannan - added postgres_port\n",
    "rds_connection_string = f\"postgres:{postgres_password}@localhost:{postgres_port}/ETL_Project\"\n",
    "engine = create_engine(f'postgresql://{rds_connection_string}')"
   ]
  },
  {
   "cell_type": "code",
   "execution_count": null,
   "metadata": {},
   "outputs": [],
   "source": [
    "engine.table_names()"
   ]
  },
  {
   "cell_type": "code",
   "execution_count": null,
   "metadata": {},
   "outputs": [],
   "source": [
    "engine.execute('DELETE from \"visa_data\"')\n",
    "result = engine.execute('SELECT * FROM \"visa_data\"')\n",
    "\n",
    "slim_visa_db.to_sql(name='visa_data', con=engine, if_exists='append', index=False)\n",
    "\n",
    "\n"
   ]
  },
  {
   "cell_type": "code",
   "execution_count": null,
   "metadata": {},
   "outputs": [],
   "source": []
  },
  {
   "cell_type": "code",
   "execution_count": null,
   "metadata": {},
   "outputs": [],
   "source": [
    "# Attempts to clean the data"
   ]
  },
  {
   "cell_type": "code",
   "execution_count": null,
   "metadata": {},
   "outputs": [],
   "source": [
    "#Case Number\n",
    "\n",
    "for index, row in small_col_visa_df.iterrows():\n",
    "    df['case_number'].fillna(df['case_no'])\n",
    "    \n",
    "    if pd.isnull(row['case_number']):\n",
    "        row['caseNumber'] = row['case_no']\n",
    "\n",
    "    elif pd.notnull(row['case_number']):\n",
    "        row['caseNumber'] = row['case_number']\n",
    "        \n",
    "    elif pd.isnull(row['country_of_citizenship']):\n",
    "        row['countryCitizenship'] = row['country_of_citzenship']\n",
    "\n",
    "    else:\n",
    "        row['countryCitizenship'] = row['country_of_citizenship']\n",
    "    \n",
    "        \n",
    "small_col_visa_df[[\"country_of_citizenship\",\"country_of_citzenship\",\"countryCitizenship\"]].head()\n",
    "     \n",
    "# pd.notnull(row['country_of_citizenship'])"
   ]
  },
  {
   "cell_type": "code",
   "execution_count": null,
   "metadata": {},
   "outputs": [],
   "source": [
    "#Country of Citizenship\n",
    "\n",
    "for index, row in small_col_visa_df.iterrows():\n",
    "    if pd.isnull(row['country_of_citizenship']):\n",
    "        row['countryCitizenship'] = row['country_of_citzenship']\n",
    "\n",
    "    else:\n",
    "        row['countryCitizenship'] = row['country_of_citizenship']\n",
    "        \n",
    "small_col_visa_df[[\"country_of_citizenship\",\"country_of_citzenship\",\"countryCitizenship\"]].head()\n",
    "     "
   ]
  },
  {
   "cell_type": "code",
   "execution_count": null,
   "metadata": {},
   "outputs": [],
   "source": [
    "#Foreign Worker Birth Country\n",
    "\n",
    "for index, row in small_col_visa_df.iterrows():\n",
    "    if pd.isnull(row['foreign_worker_info_birth_country']):\n",
    "        row['birthCountry'] = row['fw_info_birth_country']\n",
    "\n",
    "    else:\n",
    "        row['birthCountry'] = row['foreign_worker_info_birth_country']\n",
    "        \n",
    "small_col_visa_df[[\"foreign_worker_info_birth_country\", \"fw_info_birth_country\", \"birthCountry\"]].head()\n",
    "     "
   ]
  },
  {
   "cell_type": "code",
   "execution_count": null,
   "metadata": {},
   "outputs": [],
   "source": []
  }
 ],
 "metadata": {
  "kernelspec": {
   "display_name": "Python 3",
   "language": "python",
   "name": "python3"
  },
  "language_info": {
   "codemirror_mode": {
    "name": "ipython",
    "version": 3
   },
   "file_extension": ".py",
   "mimetype": "text/x-python",
   "name": "python",
   "nbconvert_exporter": "python",
   "pygments_lexer": "ipython3",
   "version": "3.7.4"
  }
 },
 "nbformat": 4,
 "nbformat_minor": 2
}
