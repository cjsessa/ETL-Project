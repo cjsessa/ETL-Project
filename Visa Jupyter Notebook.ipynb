{
 "cells": [
  {
   "cell_type": "code",
   "execution_count": 2,
   "metadata": {},
   "outputs": [],
   "source": [
    "import pandas as pd\n",
    "from sqlalchemy import create_engine\n",
    "import numpy as np\n",
    "import datetime as dt\n",
    "from config import postgres_password"
   ]
  },
  {
   "cell_type": "code",
   "execution_count": null,
   "metadata": {},
   "outputs": [],
   "source": [
    "csv_file = \"../Data/us_perm_visas.csv\"\n",
    "visa_data_df = pd.read_csv(csv_file)\n",
    "visa_data_df.head()"
   ]
  },
  {
   "cell_type": "code",
   "execution_count": null,
   "metadata": {},
   "outputs": [],
   "source": [
    "# Keep Important Columns\n",
    "small_col_visa_df = visa_data_df[[\"case_no\",\n",
    "                                  \"case_number\",\n",
    "                                  \"case_status\",\n",
    "                                  \"class_of_admission\",\n",
    "                                  \"country_of_citizenship\",\n",
    "                                  \"country_of_citzenship\",\n",
    "                                  \"decision_date\",\n",
    "                                  \"employer_country\",\n",
    "                                  \"employer_num_employees\",\n",
    "                                  \"employer_postal_code\",\n",
    "                                  \"employer_state\",\n",
    "                                  \"employer_yr_estab\",\n",
    "                                  \"foreign_worker_info_birth_country\",\n",
    "                                  \"fw_info_birth_country\",\n",
    "                                  \"foreign_worker_info_education\",\n",
    "                                  \"foreign_worker_info_major\",\n",
    "                                  \"foreign_worker_info_postal_code\",\n",
    "                                  \"fw_info_postal_code\",\n",
    "                                  \"foreign_worker_info_rel_occup_exp\",\n",
    "                                  \"fw_info_rel_occup_exp\",\n",
    "                                  \"foreign_worker_info_state\",\n",
    "                                  \"foreign_worker_info_training_comp\",\n",
    "                                  \"fw_info_training_comp\",\n",
    "                                  \"foreign_worker_ownership_interest\",\n",
    "                                  \"fw_ownership_interest\",\n",
    "                                  \"foreign_worker_yr_rel_edu_completed\",\n",
    "                                  \"fw_info_yr_rel_edu_completed\",\n",
    "                                  \"ji_offered_to_sec_j_foreign_worker\",\n",
    "                                  \"ji_offered_to_sec_j_fw\",\n",
    "                                  \"job_info_education\",\n",
    "                                  \"job_info_work_postal_code\",\n",
    "                                  \"job_info_work_state\",\n",
    "                                  \"orig_file_date\",\n",
    "                                  \"pw_amount_9089\",\n",
    "                                  \"pw_unit_of_pay_9089\",\n",
    "                                  \"wage_offer_from_9089\",\n",
    "                                  \"wage_offer_unit_of_pay_9089\",\n",
    "                                  \"wage_offered_from_9089\",\n",
    "                                  \"wage_offered_unit_of_pay_9089\"]]\n",
    "small_col_visa_df.head()"
   ]
  },
  {
   "cell_type": "markdown",
   "metadata": {},
   "source": [
    "# Combine Similar Columns"
   ]
  },
  {
   "cell_type": "code",
   "execution_count": null,
   "metadata": {},
   "outputs": [],
   "source": [
    "#Case Number\n",
    "small_col_visa_df['case_number'].fillna(small_col_visa_df['case_no'], inplace = True)\n",
    "small_col_visa_df['case_number'].head()\n"
   ]
  },
  {
   "cell_type": "code",
   "execution_count": null,
   "metadata": {},
   "outputs": [],
   "source": [
    "#Country of Citizenship\n",
    "small_col_visa_df['country_of_citizenship'].fillna(small_col_visa_df['country_of_citzenship'], inplace = True)\n"
   ]
  },
  {
   "cell_type": "code",
   "execution_count": null,
   "metadata": {},
   "outputs": [],
   "source": [
    "#FW Birth Country\n",
    "small_col_visa_df['foreign_worker_info_birth_country'].fillna(small_col_visa_df['fw_info_birth_country'], inplace = True)\n"
   ]
  },
  {
   "cell_type": "code",
   "execution_count": null,
   "metadata": {},
   "outputs": [],
   "source": [
    "#FW Postal Code\n",
    "small_col_visa_df['foreign_worker_info_postal_code'].fillna(small_col_visa_df['fw_info_postal_code'], inplace = True)\n"
   ]
  },
  {
   "cell_type": "code",
   "execution_count": null,
   "metadata": {},
   "outputs": [],
   "source": [
    "#FW Has Required Experience?\n",
    "small_col_visa_df['foreign_worker_info_rel_occup_exp'].fillna(small_col_visa_df['fw_info_rel_occup_exp'], inplace = True)\n"
   ]
  },
  {
   "cell_type": "code",
   "execution_count": null,
   "metadata": {},
   "outputs": [],
   "source": [
    "#FW completed Required Training?\n",
    "small_col_visa_df['foreign_worker_info_training_comp'].fillna(small_col_visa_df['fw_info_training_comp'], inplace = True)\n"
   ]
  },
  {
   "cell_type": "code",
   "execution_count": null,
   "metadata": {},
   "outputs": [],
   "source": [
    "#FW has ownership interest?\n",
    "small_col_visa_df['foreign_worker_ownership_interest'].fillna(small_col_visa_df['fw_ownership_interest'], inplace = True)\n"
   ]
  },
  {
   "cell_type": "code",
   "execution_count": null,
   "metadata": {},
   "outputs": [],
   "source": [
    "#FW has required Education?\n",
    "small_col_visa_df['foreign_worker_yr_rel_edu_completed'].fillna(small_col_visa_df['fw_info_yr_rel_edu_completed'], inplace = True)\n"
   ]
  },
  {
   "cell_type": "code",
   "execution_count": null,
   "metadata": {},
   "outputs": [],
   "source": [
    "#FW is position being sponsored?\n",
    "small_col_visa_df['ji_offered_to_sec_j_foreign_worker'].fillna(small_col_visa_df['ji_offered_to_sec_j_fw'], inplace = True)\n"
   ]
  },
  {
   "cell_type": "code",
   "execution_count": null,
   "metadata": {},
   "outputs": [],
   "source": [
    "# Wage offered\n",
    "small_col_visa_df['wage_offer_from_9089'].fillna(small_col_visa_df['wage_offered_from_9089'], inplace = True)\n"
   ]
  },
  {
   "cell_type": "code",
   "execution_count": null,
   "metadata": {},
   "outputs": [],
   "source": [
    "# Unit of Pay for wage offered\n",
    "small_col_visa_df['wage_offer_unit_of_pay_9089'].fillna(small_col_visa_df['wage_offered_unit_of_pay_9089'], inplace = True)\n"
   ]
  },
  {
   "cell_type": "markdown",
   "metadata": {},
   "source": [
    "# Attempting to calculate an adjusted Yearly wage"
   ]
  },
  {
   "cell_type": "code",
   "execution_count": null,
   "metadata": {},
   "outputs": [],
   "source": [
    "#How are they paid?\n",
    "small_col_visa_df.wage_offer_unit_of_pay_9089.unique()"
   ]
  },
  {
   "cell_type": "code",
   "execution_count": null,
   "metadata": {},
   "outputs": [],
   "source": [
    "for index, row in small_col_visa_df.iterrows():\n",
    "    if row[\"wage_offer_unit_of_pay_9089\"] == \"hr\":\n",
    "        row[\"Adj_annual_wage\"] = row[\"wage_offer_from_9089\"] * 40 * 50\n",
    "        \n",
    "        # 40 hrs/ week , 50weeks/year\n",
    "        \n",
    "        #Goal would be to contiue this for the other wages\n",
    "        "
   ]
  },
  {
   "cell_type": "code",
   "execution_count": null,
   "metadata": {},
   "outputs": [],
   "source": [
    "small_col_visa_df[[\"Adj_annual_wage\"]].head()"
   ]
  },
  {
   "cell_type": "code",
   "execution_count": null,
   "metadata": {},
   "outputs": [],
   "source": [
    "# Keep Columns -> We can remove the other related columns because they are now duplicates\n",
    "# case_number\n",
    "# country_of_citizenship\n",
    "# foreign_worker_info_birth_country\n",
    "# foreign_worker_info_postal_code\n",
    "# foreign_worker_info_rel_occup_exp\n",
    "# foreign_worker_info_training_comp\n",
    "# foreign_worker_ownership_interest\n",
    "# foreign_worker_yr_rel_edu_completed\n",
    "# ji_offered_to_sec_j_foreign_worker\n",
    "# wage_offer_from_9089\n",
    "# wage_offer_unit_of_pay_9089\n",
    "\n",
    "\n"
   ]
  },
  {
   "cell_type": "code",
   "execution_count": null,
   "metadata": {},
   "outputs": [],
   "source": [
    "slim_visa_db =  small_col_visa_df[[\"case_number\",\n",
    "                                  \"case_status\",\n",
    "                                  \"class_of_admission\",\n",
    "                                  \"country_of_citizenship\",\n",
    "                                  \n",
    "                                  \"decision_date\",\n",
    "                                  \"employer_country\",\n",
    "                                  \"employer_num_employees\",\n",
    "                                  \"employer_postal_code\",\n",
    "                                  \"employer_state\",\n",
    "                                  \"employer_yr_estab\",\n",
    "                                  \"foreign_worker_info_birth_country\",\n",
    "                                  \n",
    "                                  \"foreign_worker_info_education\",\n",
    "                                  \"foreign_worker_info_major\",\n",
    "                                  \"foreign_worker_info_postal_code\",\n",
    "                                  \n",
    "                                  \"foreign_worker_info_rel_occup_exp\",\n",
    "                                  \n",
    "                                  \"foreign_worker_info_state\",\n",
    "                                  \"foreign_worker_info_training_comp\",\n",
    "                                  \n",
    "                                  \"foreign_worker_ownership_interest\",\n",
    "                                  \n",
    "                                  \"foreign_worker_yr_rel_edu_completed\",\n",
    "                                  \n",
    "                                  \"ji_offered_to_sec_j_foreign_worker\",\n",
    "                                  \n",
    "                                  \"job_info_education\",\n",
    "                                  \"job_info_work_postal_code\",\n",
    "                                  \"job_info_work_state\",\n",
    "                                  \"orig_file_date\",\n",
    "                                  \"pw_amount_9089\",\n",
    "                                  \"pw_unit_of_pay_9089\",\n",
    "                                  \"wage_offer_from_9089\",\n",
    "                                  \"wage_offer_unit_of_pay_9089\"]]\n",
    "slim_visa_db.head()"
   ]
  },
  {
   "cell_type": "code",
   "execution_count": null,
   "metadata": {},
   "outputs": [],
   "source": [
    "slim_visa_db.set_index('case_number')"
   ]
  },
  {
   "cell_type": "code",
   "execution_count": null,
   "metadata": {},
   "outputs": [],
   "source": []
  },
  {
   "cell_type": "code",
   "execution_count": null,
   "metadata": {},
   "outputs": [],
   "source": []
  },
  {
   "cell_type": "code",
   "execution_count": null,
   "metadata": {},
   "outputs": [],
   "source": [
    "rds_connection_string = f\"postgres:{postgres_password}@localhost:5432/ETL_Project\"\n",
    "engine = create_engine(f'postgresql://{rds_connection_string}')"
   ]
  },
  {
   "cell_type": "code",
   "execution_count": null,
   "metadata": {},
   "outputs": [],
   "source": [
    "engine.table_names()"
   ]
  },
  {
   "cell_type": "code",
   "execution_count": null,
   "metadata": {},
   "outputs": [],
   "source": [
    "engine.execute('DELETE from \"visa_data\"')\n",
    "result = engine.execute('SELECT * FROM \"visa_data\"')\n",
    "\n",
    "slim_visa_db.to_sql(name='visa_data', con=engine, if_exists='append', index=False)\n",
    "\n",
    "\n"
   ]
  },
  {
   "cell_type": "code",
   "execution_count": null,
   "metadata": {},
   "outputs": [],
   "source": []
  },
  {
   "cell_type": "code",
   "execution_count": null,
   "metadata": {},
   "outputs": [],
   "source": [
    "# Attempts to clean the data"
   ]
  },
  {
   "cell_type": "code",
   "execution_count": null,
   "metadata": {},
   "outputs": [],
   "source": [
    "#Case Number\n",
    "\n",
    "for index, row in small_col_visa_df.iterrows():\n",
    "    df['case_number'].fillna(df['case_no'])\n",
    "    \n",
    "    if pd.isnull(row['case_number']):\n",
    "        row['caseNumber'] = row['case_no']\n",
    "\n",
    "    elif pd.notnull(row['case_number']):\n",
    "        row['caseNumber'] = row['case_number']\n",
    "        \n",
    "    elif pd.isnull(row['country_of_citizenship']):\n",
    "        row['countryCitizenship'] = row['country_of_citzenship']\n",
    "\n",
    "    else:\n",
    "        row['countryCitizenship'] = row['country_of_citizenship']\n",
    "    \n",
    "        \n",
    "small_col_visa_df[[\"country_of_citizenship\",\"country_of_citzenship\",\"countryCitizenship\"]].head()\n",
    "     \n",
    "# pd.notnull(row['country_of_citizenship'])"
   ]
  },
  {
   "cell_type": "code",
   "execution_count": null,
   "metadata": {},
   "outputs": [],
   "source": [
    "#Country of Citizenship\n",
    "\n",
    "for index, row in small_col_visa_df.iterrows():\n",
    "    if pd.isnull(row['country_of_citizenship']):\n",
    "        row['countryCitizenship'] = row['country_of_citzenship']\n",
    "\n",
    "    else:\n",
    "        row['countryCitizenship'] = row['country_of_citizenship']\n",
    "        \n",
    "small_col_visa_df[[\"country_of_citizenship\",\"country_of_citzenship\",\"countryCitizenship\"]].head()\n",
    "     "
   ]
  },
  {
   "cell_type": "code",
   "execution_count": null,
   "metadata": {},
   "outputs": [],
   "source": [
    "#Foreign Worker Birth Country\n",
    "\n",
    "for index, row in small_col_visa_df.iterrows():\n",
    "    if pd.isnull(row['foreign_worker_info_birth_country']):\n",
    "        row['birthCountry'] = row['fw_info_birth_country']\n",
    "\n",
    "    else:\n",
    "        row['birthCountry'] = row['foreign_worker_info_birth_country']\n",
    "        \n",
    "small_col_visa_df[[\"foreign_worker_info_birth_country\", \"fw_info_birth_country\", \"birthCountry\"]].head()\n",
    "     "
   ]
  },
  {
   "cell_type": "code",
   "execution_count": null,
   "metadata": {},
   "outputs": [],
   "source": []
  }
 ],
 "metadata": {
  "kernelspec": {
   "display_name": "Python 3",
   "language": "python",
   "name": "python3"
  },
  "language_info": {
   "codemirror_mode": {
    "name": "ipython",
    "version": 3
   },
   "file_extension": ".py",
   "mimetype": "text/x-python",
   "name": "python",
   "nbconvert_exporter": "python",
   "pygments_lexer": "ipython3",
   "version": "3.7.4"
  }
 },
 "nbformat": 4,
 "nbformat_minor": 2
}
